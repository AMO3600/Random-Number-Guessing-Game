{
 "cells": [
  {
   "cell_type": "code",
   "execution_count": null,
   "id": "d26cf47d",
   "metadata": {},
   "outputs": [],
   "source": [
    "def play_game():\n",
    "    # Generate a random number between 1 and 10\n",
    "    secret_number = random.randint(1, 10)\n",
    "\n",
    "    # Initialize the number of tries\n",
    "    tries = 0\n",
    "\n",
    "    # Set the maximum number of tries\n",
    "    max_tries = 3\n",
    "\n",
    "    # Start the game loop\n",
    "    while True:\n",
    "        # Get a guess from the player\n",
    "        guess = int(input(\"Guess a number between 1 and 10: \"))\n",
    "\n",
    "        # Increment the number of tries\n",
    "        tries += 1\n",
    "\n",
    "        # Check if the guess is correct\n",
    "        if guess == secret_number:\n",
    "            print(\"You guessed it! The number was {}\".format(secret_number))\n",
    "            break\n",
    "        # Check if the player has used up all their tries\n",
    "        elif tries >= max_tries:\n",
    "            print(\"You ran out of tries! The number was {}\".format(secret_number))\n",
    "            break\n",
    "        # Give the player a hint\n",
    "        elif guess > secret_number:\n",
    "            print(\"Your guess is too high. Try again.\")\n",
    "        elif guess < secret_number:\n",
    "            print(\"Your guess is too low. Try again.\")\n",
    "\n",
    "    # Ask the player if they want to play again\n",
    "    play_again = input(\"Do you want to play again? (yes/no) \")\n",
    "    if play_again.lower() == \"yes\":\n",
    "        play_game()\n",
    "    else:\n",
    "        print(\"Thanks for playing!\")\n",
    "\n",
    "\n",
    "# Start the game\n",
    "play_game()"
   ]
  },
  {
   "cell_type": "code",
   "execution_count": null,
   "id": "ef2b3938",
   "metadata": {},
   "outputs": [],
   "source": []
  }
 ],
 "metadata": {
  "kernelspec": {
   "display_name": "Python 3 (ipykernel)",
   "language": "python",
   "name": "python3"
  },
  "language_info": {
   "codemirror_mode": {
    "name": "ipython",
    "version": 3
   },
   "file_extension": ".py",
   "mimetype": "text/x-python",
   "name": "python",
   "nbconvert_exporter": "python",
   "pygments_lexer": "ipython3",
   "version": "3.9.12"
  }
 },
 "nbformat": 4,
 "nbformat_minor": 5
}
